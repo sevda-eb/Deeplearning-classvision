{
 "cells": [
  {
   "cell_type": "code",
   "execution_count": null,
   "id": "61652035-bb51-486c-9a61-a04130ab76dc",
   "metadata": {},
   "outputs": [],
   "source": [
    "### projects serie 01 ###"
   ]
  }
 ],
 "metadata": {
  "kernelspec": {
   "display_name": "Python 3 (ipykernel)",
   "language": "python",
   "name": "python3"
  },
  "language_info": {
   "codemirror_mode": {
    "name": "ipython",
    "version": 3
   },
   "file_extension": ".py",
   "mimetype": "text/x-python",
   "name": "python",
   "nbconvert_exporter": "python",
   "pygments_lexer": "ipython3",
   "version": "3.11.7"
  }
 },
 "nbformat": 4,
 "nbformat_minor": 5
}
